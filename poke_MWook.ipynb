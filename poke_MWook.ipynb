{
 "cells": [
  {
   "cell_type": "markdown",
   "id": "8a96fc6c",
   "metadata": {},
   "source": [
    "# 모듈 설정"
   ]
  },
  {
   "cell_type": "code",
   "execution_count": 25,
   "id": "c455ca33",
   "metadata": {},
   "outputs": [],
   "source": [
    "import os\n",
    "import numpy as np\n",
    "import pandas as pd\n",
    "import matplotlib.pyplot as plt\n",
    "import tensorflow as tf\n",
    "from tensorflow.keras import Sequential\n",
    "from tensorflow.keras.layers import Conv2D, MaxPooling2D, Dropout, Flatten, Dense\n",
    "from tensorflow.keras.callbacks import EarlyStopping\n",
    "from tensorflow.keras.preprocessing.image import ImageDataGenerator\n",
    "from tensorflow.keras.utils import img_to_array\n",
    "from PIL import Image\n",
    "import glob\n",
    "import cv2"
   ]
  },
  {
   "cell_type": "markdown",
   "id": "b9d56002",
   "metadata": {},
   "source": [
    "# 데이터 설정"
   ]
  },
  {
   "cell_type": "code",
   "execution_count": 2,
   "id": "dd28c63d",
   "metadata": {},
   "outputs": [
    {
     "data": {
      "text/html": [
       "<div>\n",
       "<style scoped>\n",
       "    .dataframe tbody tr th:only-of-type {\n",
       "        vertical-align: middle;\n",
       "    }\n",
       "\n",
       "    .dataframe tbody tr th {\n",
       "        vertical-align: top;\n",
       "    }\n",
       "\n",
       "    .dataframe thead th {\n",
       "        text-align: right;\n",
       "    }\n",
       "</style>\n",
       "<table border=\"1\" class=\"dataframe\">\n",
       "  <thead>\n",
       "    <tr style=\"text-align: right;\">\n",
       "      <th></th>\n",
       "      <th>Name</th>\n",
       "      <th>Type1</th>\n",
       "      <th>Type2</th>\n",
       "    </tr>\n",
       "  </thead>\n",
       "  <tbody>\n",
       "    <tr>\n",
       "      <th>0</th>\n",
       "      <td>bulbasaur</td>\n",
       "      <td>Grass</td>\n",
       "      <td>Poison</td>\n",
       "    </tr>\n",
       "    <tr>\n",
       "      <th>1</th>\n",
       "      <td>ivysaur</td>\n",
       "      <td>Grass</td>\n",
       "      <td>Poison</td>\n",
       "    </tr>\n",
       "    <tr>\n",
       "      <th>2</th>\n",
       "      <td>venusaur</td>\n",
       "      <td>Grass</td>\n",
       "      <td>Poison</td>\n",
       "    </tr>\n",
       "    <tr>\n",
       "      <th>3</th>\n",
       "      <td>charmander</td>\n",
       "      <td>Fire</td>\n",
       "      <td>NaN</td>\n",
       "    </tr>\n",
       "    <tr>\n",
       "      <th>4</th>\n",
       "      <td>charmeleon</td>\n",
       "      <td>Fire</td>\n",
       "      <td>NaN</td>\n",
       "    </tr>\n",
       "    <tr>\n",
       "      <th>...</th>\n",
       "      <td>...</td>\n",
       "      <td>...</td>\n",
       "      <td>...</td>\n",
       "    </tr>\n",
       "    <tr>\n",
       "      <th>804</th>\n",
       "      <td>stakataka</td>\n",
       "      <td>Rock</td>\n",
       "      <td>Steel</td>\n",
       "    </tr>\n",
       "    <tr>\n",
       "      <th>805</th>\n",
       "      <td>blacephalon</td>\n",
       "      <td>Fire</td>\n",
       "      <td>Ghost</td>\n",
       "    </tr>\n",
       "    <tr>\n",
       "      <th>806</th>\n",
       "      <td>zeraora</td>\n",
       "      <td>Electric</td>\n",
       "      <td>NaN</td>\n",
       "    </tr>\n",
       "    <tr>\n",
       "      <th>807</th>\n",
       "      <td>meltan</td>\n",
       "      <td>Steel</td>\n",
       "      <td>NaN</td>\n",
       "    </tr>\n",
       "    <tr>\n",
       "      <th>808</th>\n",
       "      <td>melmetal</td>\n",
       "      <td>Steel</td>\n",
       "      <td>NaN</td>\n",
       "    </tr>\n",
       "  </tbody>\n",
       "</table>\n",
       "<p>809 rows × 3 columns</p>\n",
       "</div>"
      ],
      "text/plain": [
       "            Name     Type1   Type2\n",
       "0      bulbasaur     Grass  Poison\n",
       "1        ivysaur     Grass  Poison\n",
       "2       venusaur     Grass  Poison\n",
       "3     charmander      Fire     NaN\n",
       "4     charmeleon      Fire     NaN\n",
       "..           ...       ...     ...\n",
       "804    stakataka      Rock   Steel\n",
       "805  blacephalon      Fire   Ghost\n",
       "806      zeraora  Electric     NaN\n",
       "807       meltan     Steel     NaN\n",
       "808     melmetal     Steel     NaN\n",
       "\n",
       "[809 rows x 3 columns]"
      ]
     },
     "execution_count": 2,
     "metadata": {},
     "output_type": "execute_result"
    }
   ],
   "source": [
    "name_type = pd.read_csv(\"pokemon.csv\")\n",
    "name_type"
   ]
  },
  {
   "cell_type": "code",
   "execution_count": 3,
   "id": "56465fac",
   "metadata": {},
   "outputs": [
    {
     "data": {
      "text/plain": [
       "['images\\\\abomasnow.png',\n",
       " 'images\\\\abra.png',\n",
       " 'images\\\\absol.png',\n",
       " 'images\\\\accelgor.png',\n",
       " 'images\\\\aegislash-blade.png']"
      ]
     },
     "execution_count": 3,
     "metadata": {},
     "output_type": "execute_result"
    }
   ],
   "source": [
    "img_paths = glob.glob(\"images/*\")\n",
    "img_paths[:5]"
   ]
  },
  {
   "cell_type": "code",
   "execution_count": 4,
   "id": "e6e73e3a",
   "metadata": {},
   "outputs": [
    {
     "data": {
      "image/png": "[encoded data removed]",
      "text/plain": [
       "<PIL.PngImagePlugin.PngImageFile image mode=RGBA size=120x120 at 0x21B31C90A30>"
      ]
     },
     "execution_count": 4,
     "metadata": {},
     "output_type": "execute_result"
    }
   ],
   "source": [
    "Image.open(img_paths[0])"
   ]
  },
  {
   "cell_type": "code",
   "execution_count": null,
   "id": "af8f9901",
   "metadata": {},
   "outputs": [],
   "source": []
  },
  {
   "cell_type": "markdown",
   "id": "92e925d9",
   "metadata": {},
   "source": [
    "# 전처리 y 생성"
   ]
  },
  {
   "cell_type": "code",
   "execution_count": 5,
   "id": "549540ab",
   "metadata": {},
   "outputs": [
    {
     "data": {
      "text/plain": [
       "0         Grass\n",
       "1         Grass\n",
       "2         Grass\n",
       "3          Fire\n",
       "4          Fire\n",
       "         ...   \n",
       "804        Rock\n",
       "805        Fire\n",
       "806    Electric\n",
       "807       Steel\n",
       "808       Steel\n",
       "Name: Type1, Length: 809, dtype: object"
      ]
     },
     "execution_count": 5,
     "metadata": {},
     "output_type": "execute_result"
    }
   ],
   "source": [
    "from sklearn.preprocessing import LabelBinarizer\n",
    "\n",
    "encoder = LabelBinarizer()\n",
    "name_type[\"Type1\"]"
   ]
  },
  {
   "cell_type": "code",
   "execution_count": 6,
   "id": "41ce37af",
   "metadata": {},
   "outputs": [
    {
     "data": {
      "text/plain": [
       "18"
      ]
     },
     "execution_count": 6,
     "metadata": {},
     "output_type": "execute_result"
    }
   ],
   "source": [
    "name_type[\"Type1\"].nunique()"
   ]
  },
  {
   "cell_type": "code",
   "execution_count": 7,
   "id": "c2391e41",
   "metadata": {},
   "outputs": [
    {
     "data": {
      "text/plain": [
       "array([[0, 0, 0, ..., 0, 0, 0],\n",
       "       [0, 0, 0, ..., 0, 0, 0],\n",
       "       [0, 0, 0, ..., 0, 0, 0],\n",
       "       ...,\n",
       "       [0, 0, 0, ..., 0, 0, 0],\n",
       "       [0, 0, 0, ..., 0, 1, 0],\n",
       "       [0, 0, 0, ..., 0, 1, 0]])"
      ]
     },
     "execution_count": 7,
     "metadata": {},
     "output_type": "execute_result"
    }
   ],
   "source": [
    "enc_y = encoder.fit_transform(name_type[\"Type1\"])\n",
    "enc_y"
   ]
  },
  {
   "cell_type": "code",
   "execution_count": 8,
   "id": "8b9c02f4",
   "metadata": {},
   "outputs": [
    {
     "data": {
      "text/plain": [
       "(809, 18)"
      ]
     },
     "execution_count": 8,
     "metadata": {},
     "output_type": "execute_result"
    }
   ],
   "source": [
    "enc_y.shape"
   ]
  },
  {
   "cell_type": "code",
   "execution_count": 9,
   "id": "2a929dc6",
   "metadata": {},
   "outputs": [
    {
     "data": {
      "text/plain": [
       "array([0, 0, 0, 0, 0, 0, 0, 0, 0, 1, 0, 0, 0, 0, 0, 0, 0, 0])"
      ]
     },
     "execution_count": 9,
     "metadata": {},
     "output_type": "execute_result"
    }
   ],
   "source": [
    "enc_y[0]"
   ]
  },
  {
   "cell_type": "code",
   "execution_count": 10,
   "id": "07db9d8c",
   "metadata": {},
   "outputs": [
    {
     "data": {
      "text/plain": [
       "9"
      ]
     },
     "execution_count": 10,
     "metadata": {},
     "output_type": "execute_result"
    }
   ],
   "source": [
    "np.argmax(enc_y[0])"
   ]
  },
  {
   "cell_type": "code",
   "execution_count": 11,
   "id": "32503776",
   "metadata": {},
   "outputs": [
    {
     "data": {
      "text/plain": [
       "'Grass'"
      ]
     },
     "execution_count": 11,
     "metadata": {},
     "output_type": "execute_result"
    }
   ],
   "source": [
    "encoder.classes_[np.argmax(enc_y[0])]"
   ]
  },
  {
   "cell_type": "code",
   "execution_count": 12,
   "id": "5b456be2",
   "metadata": {},
   "outputs": [],
   "source": [
    "y = []\n",
    "\n",
    "for i in enc_y:\n",
    "    max_idx = np.argmax(i)\n",
    "    # print(max_idx)\n",
    "    y.append(max_idx)"
   ]
  },
  {
   "cell_type": "code",
   "execution_count": 13,
   "id": "15527e6a",
   "metadata": {},
   "outputs": [
    {
     "data": {
      "text/plain": [
       "array([ 9,  9,  9,  6,  6,  6, 17, 17, 17,  0,  0,  0,  0,  0,  0, 12, 12,\n",
       "       12, 12, 12, 12, 12, 13, 13,  3,  3, 10, 10, 13, 13, 13, 13, 13, 13,\n",
       "        4,  4,  6,  6, 12, 12, 13, 13,  9,  9,  9,  0,  0,  0,  0, 10, 10,\n",
       "       12, 12, 17, 17,  5,  5,  6,  6, 17, 17, 17, 14, 14, 14,  5,  5,  5,\n",
       "        9,  9,  9, 17, 17, 15, 15, 15,  6,  6, 17, 17,  3,  3, 12, 12, 12,\n",
       "       17, 17, 13, 13, 17, 17,  8,  8,  8, 15, 14, 14, 17, 17,  3,  3,  9,\n",
       "        9, 10, 10,  5,  5, 12, 13, 13, 10, 10, 12,  9, 12, 17, 17, 17, 17,\n",
       "       17, 17, 14,  0, 11,  3,  6,  0, 12, 17, 17, 17, 12, 12, 17,  3,  6,\n",
       "       12, 15, 15, 15, 15, 15, 12, 11,  3,  6,  2,  2,  2, 14, 14,  9,  9,\n",
       "        9,  6,  6,  6, 17, 17, 17, 12, 12, 12, 12,  0,  0,  0,  0, 13, 17,\n",
       "       17,  3,  4, 12,  4,  4, 14, 14,  3,  3,  3,  9, 17, 17, 15, 17,  9,\n",
       "        9,  9, 12,  9,  9,  0, 17, 17, 14,  1,  1, 17,  8, 14, 14, 12,  0,\n",
       "        0, 12, 10, 16,  4,  4, 17,  0,  0,  0,  1, 12, 12,  6,  6, 11, 11,\n",
       "       17, 17, 17, 11, 17, 16,  1,  1, 17, 10, 10, 12, 12, 12,  5,  5, 11,\n",
       "        3,  6, 12, 12,  3,  6, 17, 15, 15, 15, 14,  6, 14,  9,  9,  9,  6,\n",
       "        6,  6, 17, 17, 17,  1,  1, 12, 12,  0,  0,  0,  0,  0, 17, 17, 17,\n",
       "        9,  9,  9, 12, 12, 17, 17, 14, 14, 14,  0,  0,  9,  9, 12, 12, 12,\n",
       "        0,  0,  0, 12, 12, 12,  5,  5, 12, 15, 12, 12,  1, 16, 16, 16, 16,\n",
       "        5,  5,  3,  3,  3,  3,  0,  0,  9, 13, 13, 17, 17, 17, 17,  6,  6,\n",
       "        6, 14, 14, 12, 10, 10, 10,  9,  9, 12,  2, 12, 13, 15, 15, 17, 17,\n",
       "       17, 17, 10, 10, 15, 15, 15, 15, 17, 17, 12, 12,  8,  8,  8,  8,  9,\n",
       "       14,  1, 14, 11, 11, 11, 11, 11, 17, 17, 17, 17, 17,  2,  2,  2, 16,\n",
       "       16, 16, 15, 11, 16,  2,  2, 17, 10,  2, 16, 14,  9,  9,  9,  6,  6,\n",
       "        6, 17, 17, 17, 12, 12, 12, 12, 12,  0,  0,  3,  3,  3,  9,  9, 15,\n",
       "       15, 15, 15,  0,  0,  0,  0,  0,  3, 17, 17,  9,  9, 17, 17, 12,  8,\n",
       "        8, 12, 12,  8,  1, 12, 12, 14, 13, 13, 16, 16, 15, 14, 12, 12,  8,\n",
       "        2,  2,  2, 12,  5,  5, 10, 10, 13, 13, 13, 13,  9, 17, 17, 17,  9,\n",
       "        9,  1,  3, 12, 10,  9,  3,  6,  4,  0,  9, 11, 10, 11, 12, 14, 15,\n",
       "        8, 11,  3, 14, 14, 14, 16, 17,  6, 12,  8, 14, 17, 17,  1,  9, 12,\n",
       "       14,  9,  9,  9,  6,  6,  6, 17, 17, 17, 12, 12, 12, 12, 12,  1,  1,\n",
       "        9,  9,  6,  6, 17, 17, 14, 14, 12, 12, 12,  3,  3, 15, 15, 15, 14,\n",
       "       14, 10, 10, 12,  5,  5,  5, 17, 17, 17,  5,  5,  0,  0,  0,  0,  0,\n",
       "        0,  9,  9,  9,  9, 17, 10, 10, 10,  6,  6,  9,  0,  0,  1,  1, 14,\n",
       "        8,  8, 17, 17, 15, 15, 13, 13,  1,  1, 12, 12, 14, 14, 14, 14, 14,\n",
       "       14, 17, 17, 11, 11, 11, 12, 12,  3,  0,  0,  9,  9, 17, 17, 17,  0,\n",
       "        0,  9,  9, 16, 16, 16,  3,  3,  3, 14, 14,  8,  8,  8,  2,  2,  2,\n",
       "       11, 11, 11,  0,  0, 10,  5,  5,  2, 10, 10,  1,  1, 12, 12, 12,  1,\n",
       "        1,  6,  0,  1,  1,  1,  0,  0, 16, 15,  9,  7,  3,  2,  2, 10,  2,\n",
       "       17, 12,  0,  9,  9,  9,  6,  6,  6, 17, 17, 17, 12, 12, 12,  6,  6,\n",
       "        0,  0,  0,  6,  6,  4,  4,  4,  9,  9,  5,  5, 12, 14, 14, 16, 16,\n",
       "       16,  4,  4,  4,  4,  1,  1, 15, 15, 13, 13, 17, 17,  3,  3, 15, 15,\n",
       "       15, 15,  4,  5,  3, 15,  2,  2,  2, 16,  8,  8,  8,  8, 11, 11,  7,\n",
       "        7,  4,  1,  2, 15, 14,  6,  9,  9,  9,  6,  6,  6, 17, 17, 17, 12,\n",
       "       12, 12, 12, 12,  0,  0,  0,  5,  5,  6,  0,  0, 15, 15, 17, 13, 13,\n",
       "       10, 10, 17, 17,  9,  9,  9,  9, 13, 13, 12, 12,  9,  9,  9,  4, 12,\n",
       "        5,  0,  0,  8,  8, 17, 12, 12, 15, 12,  6,  3,  8, 17, 12,  8,  2,\n",
       "        2,  2,  3, 14,  9, 17, 14, 14, 14, 14, 15,  0,  0,  3, 16,  9,  1,\n",
       "       14, 16,  5, 13, 13, 15,  6,  3, 16, 16], dtype=int64)"
      ]
     },
     "execution_count": 13,
     "metadata": {},
     "output_type": "execute_result"
    }
   ],
   "source": [
    "y = np.array(y)\n",
    "y"
   ]
  },
  {
   "cell_type": "code",
   "execution_count": 14,
   "id": "162f47e6",
   "metadata": {},
   "outputs": [
    {
     "data": {
      "text/plain": [
       "array(['Bug', 'Dark', 'Dragon', 'Electric', 'Fairy', 'Fighting', 'Fire',\n",
       "       'Flying', 'Ghost', 'Grass', 'Ground', 'Ice', 'Normal', 'Poison',\n",
       "       'Psychic', 'Rock', 'Steel', 'Water'], dtype='<U8')"
      ]
     },
     "execution_count": 14,
     "metadata": {},
     "output_type": "execute_result"
    }
   ],
   "source": [
    "encoder.classes_"
   ]
  },
  {
   "cell_type": "code",
   "execution_count": 15,
   "id": "a376878b",
   "metadata": {},
   "outputs": [
    {
     "data": {
      "text/plain": [
       "18"
      ]
     },
     "execution_count": 15,
     "metadata": {},
     "output_type": "execute_result"
    }
   ],
   "source": [
    "len(encoder.classes_)"
   ]
  },
  {
   "cell_type": "code",
   "execution_count": null,
   "id": "64d7cfd9",
   "metadata": {},
   "outputs": [],
   "source": []
  },
  {
   "cell_type": "markdown",
   "id": "1b346e3d",
   "metadata": {},
   "source": [
    "# X값 전처리"
   ]
  },
  {
   "cell_type": "code",
   "execution_count": 16,
   "id": "3a978f05",
   "metadata": {},
   "outputs": [
    {
     "data": {
      "text/plain": [
       "(120, 120, 3)"
      ]
     },
     "execution_count": 16,
     "metadata": {},
     "output_type": "execute_result"
    }
   ],
   "source": [
    "cv2.imread(img_paths[0]).shape"
   ]
  },
  {
   "cell_type": "code",
   "execution_count": 17,
   "id": "e5114943",
   "metadata": {
    "scrolled": true
   },
   "outputs": [
    {
     "data": {
      "text/plain": [
       "array([[[0, 0, 0],\n",
       "        [0, 0, 0],\n",
       "        [0, 0, 0],\n",
       "        ...,\n",
       "        [0, 0, 0],\n",
       "        [0, 0, 0],\n",
       "        [0, 0, 0]],\n",
       "\n",
       "       [[0, 0, 0],\n",
       "        [0, 0, 0],\n",
       "        [0, 0, 0],\n",
       "        ...,\n",
       "        [0, 0, 0],\n",
       "        [0, 0, 0],\n",
       "        [0, 0, 0]],\n",
       "\n",
       "       [[0, 0, 0],\n",
       "        [0, 0, 0],\n",
       "        [0, 0, 0],\n",
       "        ...,\n",
       "        [0, 0, 0],\n",
       "        [0, 0, 0],\n",
       "        [0, 0, 0]],\n",
       "\n",
       "       ...,\n",
       "\n",
       "       [[0, 0, 0],\n",
       "        [0, 0, 0],\n",
       "        [0, 0, 0],\n",
       "        ...,\n",
       "        [0, 0, 0],\n",
       "        [0, 0, 0],\n",
       "        [0, 0, 0]],\n",
       "\n",
       "       [[0, 0, 0],\n",
       "        [0, 0, 0],\n",
       "        [0, 0, 0],\n",
       "        ...,\n",
       "        [0, 0, 0],\n",
       "        [0, 0, 0],\n",
       "        [0, 0, 0]],\n",
       "\n",
       "       [[0, 0, 0],\n",
       "        [0, 0, 0],\n",
       "        [0, 0, 0],\n",
       "        ...,\n",
       "        [0, 0, 0],\n",
       "        [0, 0, 0],\n",
       "        [0, 0, 0]]], dtype=uint8)"
      ]
     },
     "execution_count": 17,
     "metadata": {},
     "output_type": "execute_result"
    }
   ],
   "source": [
    "cv2.imread(img_paths[0])"
   ]
  },
  {
   "cell_type": "code",
   "execution_count": 18,
   "id": "15b0ea0c",
   "metadata": {},
   "outputs": [
    {
     "data": {
      "text/plain": [
       "(120, 120, 3)"
      ]
     },
     "execution_count": 18,
     "metadata": {},
     "output_type": "execute_result"
    }
   ],
   "source": [
    "img_paths[0]\n",
    "cv2.imread(img_paths[0]).shape"
   ]
  },
  {
   "cell_type": "code",
   "execution_count": 19,
   "id": "db9e7037",
   "metadata": {},
   "outputs": [
    {
     "name": "stderr",
     "output_type": "stream",
     "text": [
      "100%|██████████| 809/809 [00:01<00:00, 467.55it/s]\n"
     ]
    }
   ],
   "source": [
    "from tqdm import tqdm\n",
    "\n",
    "X_array = []\n",
    "\n",
    "for i in tqdm(img_paths):\n",
    "    X_array.append(cv2.imread(i))"
   ]
  },
  {
   "cell_type": "code",
   "execution_count": 20,
   "id": "cdc4b0f6",
   "metadata": {},
   "outputs": [
    {
     "data": {
      "text/plain": [
       "809"
      ]
     },
     "execution_count": 20,
     "metadata": {},
     "output_type": "execute_result"
    }
   ],
   "source": [
    "len(X_array)"
   ]
  },
  {
   "cell_type": "code",
   "execution_count": 21,
   "id": "1bcec0ee",
   "metadata": {},
   "outputs": [
    {
     "data": {
      "text/plain": [
       "809"
      ]
     },
     "execution_count": 21,
     "metadata": {},
     "output_type": "execute_result"
    }
   ],
   "source": [
    "len(y)"
   ]
  },
  {
   "cell_type": "code",
   "execution_count": 22,
   "id": "978af033",
   "metadata": {},
   "outputs": [
    {
     "data": {
      "text/plain": [
       "(255, 1.0)"
      ]
     },
     "execution_count": 22,
     "metadata": {},
     "output_type": "execute_result"
    }
   ],
   "source": [
    "X  = np.array(X_array) / 255\n",
    "np.max(X_array[0]), np.max(X[0])"
   ]
  },
  {
   "cell_type": "code",
   "execution_count": 23,
   "id": "3b68733a",
   "metadata": {},
   "outputs": [
    {
     "data": {
      "text/plain": [
       "((647, 120, 120, 3), (647,), (162, 120, 120, 3), (162,))"
      ]
     },
     "execution_count": 23,
     "metadata": {},
     "output_type": "execute_result"
    }
   ],
   "source": [
    "from sklearn.model_selection import train_test_split\n",
    "\n",
    "x_train, x_test, y_train, y_test = train_test_split(X, y, test_size=0.2,\n",
    "                                                    stratify=y, random_state=42)\n",
    "\n",
    "x_train.shape, y_train.shape, x_test.shape, y_test.shape"
   ]
  },
  {
   "cell_type": "code",
   "execution_count": 26,
   "id": "c45d93c3",
   "metadata": {},
   "outputs": [],
   "source": [
    "model = Sequential()\n",
    "# 입력층\n",
    "model.add(Conv2D(filters=16, kernel_size=(3,3), activation='selu', input_shape=(120, 120, 3)))\n",
    "model.add(MaxPooling2D(2,2))\n",
    "model.add(Dropout(0.2))\n",
    "model.add(Conv2D(filters=16, kernel_size=(3,3), activation='selu', input_shape=(120, 120, 3)))\n",
    "model.add(MaxPooling2D(2,2))\n",
    "model.add(Dropout(0.2))\n",
    "\n",
    "# Fully-connected layer\n",
    "\n",
    "# 출력층\n",
    "model.add(Flatten())\n",
    "model.add(Dense(units=128, activation=\"selu\"))\n",
    "model.add(Dense(units=64, activation=\"selu\"))\n",
    "model.add(Dense(units=32, activation=\"selu\"))\n",
    "model.add(Dense(len(encoder.classes_), activation=\"softmax\"))"
   ]
  },
  {
   "cell_type": "code",
   "execution_count": 27,
   "id": "4403c9bf",
   "metadata": {},
   "outputs": [
    {
     "name": "stdout",
     "output_type": "stream",
     "text": [
      "Model: \"sequential_1\"\n",
      "_________________________________________________________________\n",
      " Layer (type)                Output Shape              Param #   \n",
      "=================================================================\n",
      " conv2d_1 (Conv2D)           (None, 118, 118, 16)      448       \n",
      "                                                                 \n",
      " max_pooling2d (MaxPooling2D  (None, 59, 59, 16)       0         \n",
      " )                                                               \n",
      "                                                                 \n",
      " dropout (Dropout)           (None, 59, 59, 16)        0         \n",
      "                                                                 \n",
      " conv2d_2 (Conv2D)           (None, 57, 57, 16)        2320      \n",
      "                                                                 \n",
      " max_pooling2d_1 (MaxPooling  (None, 28, 28, 16)       0         \n",
      " 2D)                                                             \n",
      "                                                                 \n",
      " dropout_1 (Dropout)         (None, 28, 28, 16)        0         \n",
      "                                                                 \n",
      " flatten (Flatten)           (None, 12544)             0         \n",
      "                                                                 \n",
      " dense (Dense)               (None, 128)               1605760   \n",
      "                                                                 \n",
      " dense_1 (Dense)             (None, 64)                8256      \n",
      "                                                                 \n",
      " dense_2 (Dense)             (None, 32)                2080      \n",
      "                                                                 \n",
      " dense_3 (Dense)             (None, 18)                594       \n",
      "                                                                 \n",
      "=================================================================\n",
      "Total params: 1,619,458\n",
      "Trainable params: 1,619,458\n",
      "Non-trainable params: 0\n",
      "_________________________________________________________________\n"
     ]
    }
   ],
   "source": [
    "model.summary()"
   ]
  },
  {
   "cell_type": "code",
   "execution_count": 28,
   "id": "64b9e8ba",
   "metadata": {},
   "outputs": [],
   "source": [
    "model.compile(optimizer='adam',\n",
    "              loss=tf.keras.losses.SparseCategoricalCrossentropy(from_logits=True),\n",
    "              metrics=['accuracy'])"
   ]
  },
  {
   "cell_type": "code",
   "execution_count": 29,
   "id": "bde401d9",
   "metadata": {},
   "outputs": [],
   "source": [
    "from tensorflow.keras.callbacks import EarlyStopping\n",
    "\n",
    "early_stop = EarlyStopping(monitor='val_loss', patience=2)"
   ]
  },
  {
   "cell_type": "code",
   "execution_count": 31,
   "id": "91c3d68d",
   "metadata": {},
   "outputs": [
    {
     "name": "stdout",
     "output_type": "stream",
     "text": [
      "Epoch 1/10\n",
      "21/21 [==============================] - 2s 74ms/step - loss: 1.9438 - accuracy: 0.4266 - val_loss: 4.1700 - val_accuracy: 0.0370\n",
      "Epoch 2/10\n",
      "21/21 [==============================] - 2s 72ms/step - loss: 1.5011 - accuracy: 0.5672 - val_loss: 4.4654 - val_accuracy: 0.0309\n",
      "Epoch 3/10\n",
      "21/21 [==============================] - 1s 59ms/step - loss: 1.2085 - accuracy: 0.6816 - val_loss: 4.5782 - val_accuracy: 0.0617\n"
     ]
    }
   ],
   "source": [
    "history = model.fit(x_train, y_train, validation_data=(x_test, y_test), epochs=10, callbacks=early_stop)"
   ]
  },
  {
   "cell_type": "code",
   "execution_count": 32,
   "id": "6b8f6b08",
   "metadata": {},
   "outputs": [
    {
     "data": {
      "text/html": [
       "<div>\n",
       "<style scoped>\n",
       "    .dataframe tbody tr th:only-of-type {\n",
       "        vertical-align: middle;\n",
       "    }\n",
       "\n",
       "    .dataframe tbody tr th {\n",
       "        vertical-align: top;\n",
       "    }\n",
       "\n",
       "    .dataframe thead th {\n",
       "        text-align: right;\n",
       "    }\n",
       "</style>\n",
       "<table border=\"1\" class=\"dataframe\">\n",
       "  <thead>\n",
       "    <tr style=\"text-align: right;\">\n",
       "      <th></th>\n",
       "      <th>loss</th>\n",
       "      <th>accuracy</th>\n",
       "      <th>val_loss</th>\n",
       "      <th>val_accuracy</th>\n",
       "    </tr>\n",
       "  </thead>\n",
       "  <tbody>\n",
       "    <tr>\n",
       "      <th>0</th>\n",
       "      <td>1.943823</td>\n",
       "      <td>0.426584</td>\n",
       "      <td>4.170023</td>\n",
       "      <td>0.037037</td>\n",
       "    </tr>\n",
       "    <tr>\n",
       "      <th>1</th>\n",
       "      <td>1.501057</td>\n",
       "      <td>0.567233</td>\n",
       "      <td>4.465416</td>\n",
       "      <td>0.030864</td>\n",
       "    </tr>\n",
       "    <tr>\n",
       "      <th>2</th>\n",
       "      <td>1.208517</td>\n",
       "      <td>0.681607</td>\n",
       "      <td>4.578197</td>\n",
       "      <td>0.061728</td>\n",
       "    </tr>\n",
       "  </tbody>\n",
       "</table>\n",
       "</div>"
      ],
      "text/plain": [
       "       loss  accuracy  val_loss  val_accuracy\n",
       "0  1.943823  0.426584  4.170023      0.037037\n",
       "1  1.501057  0.567233  4.465416      0.030864\n",
       "2  1.208517  0.681607  4.578197      0.061728"
      ]
     },
     "execution_count": 32,
     "metadata": {},
     "output_type": "execute_result"
    }
   ],
   "source": [
    "df_hist = pd.DataFrame(history.history)\n",
    "df_hist"
   ]
  },
  {
   "cell_type": "code",
   "execution_count": 34,
   "id": "37cf8982",
   "metadata": {},
   "outputs": [
    {
     "data": {
      "image/png": "[encoded data removed]",
      "text/plain": [
       "<Figure size 432x288 with 1 Axes>"
      ]
     },
     "metadata": {
      "needs_background": "light"
     },
     "output_type": "display_data"
    }
   ],
   "source": [
    "df_hist[[\"loss\", \"val_loss\"]].plot();"
   ]
  },
  {
   "cell_type": "code",
   "execution_count": 35,
   "id": "dd21343e",
   "metadata": {},
   "outputs": [
    {
     "data": {
      "image/png": "[encoded data removed]",
      "text/plain": [
       "<Figure size 432x288 with 1 Axes>"
      ]
     },
     "metadata": {
      "needs_background": "light"
     },
     "output_type": "display_data"
    }
   ],
   "source": [
    "df_hist[[\"accuracy\", \"val_accuracy\"]].plot();"
   ]
  },
  {
   "cell_type": "code",
   "execution_count": null,
   "id": "fc034b44",
   "metadata": {},
   "outputs": [],
   "source": []
  },
  {
   "cell_type": "code",
   "execution_count": null,
   "id": "7126a75e",
   "metadata": {},
   "outputs": [],
   "source": []
  }
 ],
 "metadata": {
  "kernelspec": {
   "display_name": "Python 3 (ipykernel)",
   "language": "python",
   "name": "python3"
  },
  "language_info": {
   "codemirror_mode": {
    "name": "ipython",
    "version": 3
   },
   "file_extension": ".py",
   "mimetype": "text/x-python",
   "name": "python",
   "nbconvert_exporter": "python",
   "pygments_lexer": "ipython3",
   "version": "3.9.12"
  },
  "toc": {
   "base_numbering": 1,
   "nav_menu": {},
   "number_sections": true,
   "sideBar": true,
   "skip_h1_title": false,
   "title_cell": "Table of Contents",
   "title_sidebar": "Contents",
   "toc_cell": false,
   "toc_position": {},
   "toc_section_display": true,
   "toc_window_display": false
  }
 },
 "nbformat": 4,
 "nbformat_minor": 5
}
